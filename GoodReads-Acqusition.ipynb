{
 "cells": [
  {
   "cell_type": "code",
   "execution_count": null,
   "id": "524e1e2e",
   "metadata": {},
   "outputs": [],
   "source": [
    "import requests\n",
    "import html\n",
    "import time\n",
    "import pandas as pd\n",
    "from bs4 import BeautifulSoup\n",
    "import random\n",
    "from selenium import webdriver\n",
    "from selenium.webdriver.chrome.service import Service"
   ]
  },
  {
   "cell_type": "markdown",
   "id": "593e149c",
   "metadata": {},
   "source": [
    "The next function gets a URL and returns a beautiful soup object :\n"
   ]
  },
  {
   "cell_type": "code",
   "execution_count": null,
   "id": "3649f0b0",
   "metadata": {},
   "outputs": [],
   "source": [
    "def create_soup_from_url(url):\n",
    "    selenium = webdriver.Chrome()\n",
    "    selenium.get(url)    \n",
    "    return BeautifulSoup(selenium.page_source, 'html.parser')"
   ]
  },
  {
   "cell_type": "markdown",
   "id": "1002e021",
   "metadata": {},
   "source": [
    "The function gets an ID of the page and its URL, extracts the relevant attributes, and returns a list with the data."
   ]
  },
  {
   "cell_type": "code",
   "execution_count": null,
   "id": "16288460",
   "metadata": {},
   "outputs": [],
   "source": [
    "def fetch_book_data(id, url):\n",
    "    soup = create_soup_from_url(url)\n",
    "\n",
    "    book_title = soup.find('h1', class_= 'Text Text__title1').get_text()\n",
    "\n",
    "    book_author = soup.find('div', class_='ContributorLinksList').get_text()\n",
    "    \n",
    "    number_of_pages_raw = soup.find('div', class_='FeaturedDetails').find('p').get_text()\n",
    "    number_of_pages_array = number_of_pages_raw.split(' ')\n",
    "    numeric_number_of_pages = int(number_of_pages_array[0].replace(',', \"\"))\n",
    "\n",
    "    counts_raw = soup.find('div', class_='RatingStatistics__meta')\n",
    "    counts_array = counts_raw.find_all('span')\n",
    "    number_of_ratings = int(counts_array[0].get_text().split(\"\\xa0\")[0].replace(',', \"\"))\n",
    "    number_of_reviews = int(counts_array[1].get_text().split(\"\\xa0\")[0].replace(',', \"\"))\n",
    "\n",
    "    book_rating = float(soup.find('div', class_='RatingStatistics__rating').get_text())\n",
    "    \n",
    "    publisher = soup.find('div', class_= 'TruncatedContent__text TruncatedContent__text--small').get_text()    \n",
    "    \n",
    "    book_data = [id, book_title, book_author,numeric_number_of_pages,number_of_reviews,number_of_ratings,book_rating]\n",
    "    time.wait(3)\n",
    "    return book_data"
   ]
  },
  {
   "cell_type": "markdown",
   "id": "24fed37e",
   "metadata": {},
   "source": [
    "In this function, we approach the site, extract the data, and we use the sleep function between every request."
   ]
  },
  {
   "cell_type": "code",
   "execution_count": null,
   "id": "dcfac1af",
   "metadata": {},
   "outputs": [],
   "source": [
    "def main():\n",
    "    books_columns = ['id', 'book title','book_author','number of pages','number of reviews', 'number of ratings','publisher', 'book rating']\n",
    "    goodreads_template = 'https://www.goodreads.com/book/show/{}'\n",
    "    books_dataframe = pd.DataFrame(columns = books_columns)\n",
    "    \n",
    "    while books_dataframe.shape[0] < 7000:\n",
    "        try:\n",
    "            data = fetch_book_data(random.randint(1, 500000), goodreads_template.format(id))\n",
    "            temp = {col: data[i] for i, col in enumerate(columns)}\n",
    "            books_dataframe = books_dataframe.append(temp, ignore_index=True)\n",
    "        except:\n",
    "            continue"
   ]
  },
  {
   "cell_type": "markdown",
   "id": "a551752d",
   "metadata": {},
   "source": [
    "Extract the data Frame to a CSV file, to use later in the EDA \n"
   ]
  },
  {
   "cell_type": "code",
   "execution_count": null,
   "id": "c63cdf88",
   "metadata": {
    "scrolled": true
   },
   "outputs": [],
   "source": [
    "books_dataframe.to_csv('goodreads.csv')"
   ]
  }
 ],
 "metadata": {
  "kernelspec": {
   "display_name": "Python 3 (ipykernel)",
   "language": "python",
   "name": "python3"
  },
  "language_info": {
   "codemirror_mode": {
    "name": "ipython",
    "version": 3
   },
   "file_extension": ".py",
   "mimetype": "text/x-python",
   "name": "python",
   "nbconvert_exporter": "python",
   "pygments_lexer": "ipython3",
   "version": "3.9.13"
  }
 },
 "nbformat": 4,
 "nbformat_minor": 5
}
