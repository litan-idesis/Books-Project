{
 "cells": [
  {
   "cell_type": "code",
   "execution_count": 1,
   "id": "575c0dbd",
   "metadata": {},
   "outputs": [],
   "source": [
    "import seaborn as sns\n",
    "import matplotlib.pyplot as plt \n",
    "import matplotlib.pyplot as plt\n",
    "import pandas as pd\n",
    "from scipy.stats import zscore\n",
    "\n"
   ]
  },
  {
   "cell_type": "code",
   "execution_count": 2,
   "id": "f2795fa3",
   "metadata": {},
   "outputs": [],
   "source": [
    "df = pd.read_csv('goodreads.csv')\n"
   ]
  },
  {
   "cell_type": "code",
   "execution_count": 3,
   "id": "fc0a1440",
   "metadata": {},
   "outputs": [],
   "source": [
    "#df = df.drop(columns=['id'] , axis=1)\n",
    "df = df.drop('Unnamed: 0', axis=1)\n"
   ]
  },
  {
   "cell_type": "code",
   "execution_count": 4,
   "id": "7931714f",
   "metadata": {},
   "outputs": [
    {
     "data": {
      "text/html": [
       "<div>\n",
       "<style scoped>\n",
       "    .dataframe tbody tr th:only-of-type {\n",
       "        vertical-align: middle;\n",
       "    }\n",
       "\n",
       "    .dataframe tbody tr th {\n",
       "        vertical-align: top;\n",
       "    }\n",
       "\n",
       "    .dataframe thead th {\n",
       "        text-align: right;\n",
       "    }\n",
       "</style>\n",
       "<table border=\"1\" class=\"dataframe\">\n",
       "  <thead>\n",
       "    <tr style=\"text-align: right;\">\n",
       "      <th></th>\n",
       "      <th>title</th>\n",
       "      <th>author</th>\n",
       "      <th>rating_count</th>\n",
       "      <th>review_count</th>\n",
       "      <th>average_rating</th>\n",
       "      <th>number_of_pages</th>\n",
       "      <th>publisher</th>\n",
       "      <th>characters</th>\n",
       "    </tr>\n",
       "  </thead>\n",
       "  <tbody>\n",
       "    <tr>\n",
       "      <th>0</th>\n",
       "      <td>A Time to Embrace</td>\n",
       "      <td>Karen Kingsbury</td>\n",
       "      <td>4179</td>\n",
       "      <td>177</td>\n",
       "      <td>4.35</td>\n",
       "      <td>400.0</td>\n",
       "      <td>Thomas Nelson</td>\n",
       "      <td>NaN</td>\n",
       "    </tr>\n",
       "    <tr>\n",
       "      <th>1</th>\n",
       "      <td>Reliquary</td>\n",
       "      <td>Douglas Preston, Lincoln Child</td>\n",
       "      <td>38382</td>\n",
       "      <td>1424</td>\n",
       "      <td>4.01</td>\n",
       "      <td>464.0</td>\n",
       "      <td>Tor Books</td>\n",
       "      <td>Aloysius X.L. Pendergast, Margo Green, William...</td>\n",
       "    </tr>\n",
       "    <tr>\n",
       "      <th>2</th>\n",
       "      <td>The Millionaire Next Door: The Surprising Secr...</td>\n",
       "      <td>Thomas J. Stanley, William D. Danko</td>\n",
       "      <td>72168</td>\n",
       "      <td>3217</td>\n",
       "      <td>4.04</td>\n",
       "      <td>258.0</td>\n",
       "      <td>Gallery Books</td>\n",
       "      <td>NaN</td>\n",
       "    </tr>\n",
       "    <tr>\n",
       "      <th>3</th>\n",
       "      <td>Black Sheep</td>\n",
       "      <td>Georgette Heyer</td>\n",
       "      <td>9538</td>\n",
       "      <td>775</td>\n",
       "      <td>4.05</td>\n",
       "      <td>252.0</td>\n",
       "      <td>Arrow</td>\n",
       "      <td>Abigail Wendover, Miles Calverleigh</td>\n",
       "    </tr>\n",
       "    <tr>\n",
       "      <th>4</th>\n",
       "      <td>Sylvester</td>\n",
       "      <td>Georgette Heyer, Joan Wolf</td>\n",
       "      <td>13473</td>\n",
       "      <td>1141</td>\n",
       "      <td>4.11</td>\n",
       "      <td>410.0</td>\n",
       "      <td>Harlequin</td>\n",
       "      <td>Phoebe Marlow, Sylvester, Duke of Salford</td>\n",
       "    </tr>\n",
       "  </tbody>\n",
       "</table>\n",
       "</div>"
      ],
      "text/plain": [
       "                                               title  \\\n",
       "0                                  A Time to Embrace   \n",
       "1                                          Reliquary   \n",
       "2  The Millionaire Next Door: The Surprising Secr...   \n",
       "3                                        Black Sheep   \n",
       "4                                          Sylvester   \n",
       "\n",
       "                                author  rating_count  review_count  \\\n",
       "0                      Karen Kingsbury          4179           177   \n",
       "1       Douglas Preston, Lincoln Child         38382          1424   \n",
       "2  Thomas J. Stanley, William D. Danko         72168          3217   \n",
       "3                      Georgette Heyer          9538           775   \n",
       "4           Georgette Heyer, Joan Wolf         13473          1141   \n",
       "\n",
       "   average_rating  number_of_pages      publisher  \\\n",
       "0            4.35            400.0  Thomas Nelson   \n",
       "1            4.01            464.0      Tor Books   \n",
       "2            4.04            258.0  Gallery Books   \n",
       "3            4.05            252.0          Arrow   \n",
       "4            4.11            410.0      Harlequin   \n",
       "\n",
       "                                          characters  \n",
       "0                                                NaN  \n",
       "1  Aloysius X.L. Pendergast, Margo Green, William...  \n",
       "2                                                NaN  \n",
       "3                Abigail Wendover, Miles Calverleigh  \n",
       "4          Phoebe Marlow, Sylvester, Duke of Salford  "
      ]
     },
     "execution_count": 4,
     "metadata": {},
     "output_type": "execute_result"
    }
   ],
   "source": [
    "df.head()"
   ]
  },
  {
   "cell_type": "markdown",
   "id": "c7e4fc22",
   "metadata": {},
   "source": [
    "As we can see, I have NaN values in my data, and I handled this situation by deleting them. Also I deleted duplicates if excisted."
   ]
  },
  {
   "cell_type": "code",
   "execution_count": 5,
   "id": "ce947f36",
   "metadata": {},
   "outputs": [
    {
     "data": {
      "text/plain": [
       "5590"
      ]
     },
     "execution_count": 5,
     "metadata": {},
     "output_type": "execute_result"
    }
   ],
   "source": [
    "df = df.dropna()\n",
    "df = df.drop_duplicates()\n",
    "df.shape[0]"
   ]
  },
  {
   "cell_type": "markdown",
   "id": "2d446d8e",
   "metadata": {},
   "source": [
    "As we can see - after the cleaning, the dataframe has 5590 rows.\n"
   ]
  },
  {
   "cell_type": "markdown",
   "id": "47eb6767",
   "metadata": {},
   "source": [
    "Outliers are data points that fall significantly outside the range of the majority of the other data points. They can be extreme values that deviate from the overall pattern and may require special attention in data analysis and modeling."
   ]
  },
  {
   "cell_type": "code",
   "execution_count": 6,
   "id": "ce8fe16b",
   "metadata": {},
   "outputs": [],
   "source": [
    "z_scores = zscore(df['review_count'])\n",
    "threshold = 3\n",
    "df = df[(z_scores < threshold)]\n",
    "z_scores = zscore(df['number_of_pages'])\n",
    "threshold = 3\n",
    "df = df[(z_scores < threshold)]\n",
    "z_scores = zscore(df['rating_count'])\n",
    "threshold = 3\n",
    "df = df[(z_scores < threshold)]"
   ]
  },
  {
   "cell_type": "markdown",
   "id": "6d2a78b1",
   "metadata": {},
   "source": [
    "\n",
    "The most common threshold value is 3. Any value greater than 3 will be deleted so that we can create a reliable dataframe."
   ]
  },
  {
   "cell_type": "markdown",
   "id": "e09fd359",
   "metadata": {},
   "source": [
    "The Describe function shows the statistics about the data so we can observe if there is something to handle.  "
   ]
  },
  {
   "cell_type": "code",
   "execution_count": 7,
   "id": "878f6222",
   "metadata": {
    "scrolled": true
   },
   "outputs": [
    {
     "data": {
      "text/html": [
       "<div>\n",
       "<style scoped>\n",
       "    .dataframe tbody tr th:only-of-type {\n",
       "        vertical-align: middle;\n",
       "    }\n",
       "\n",
       "    .dataframe tbody tr th {\n",
       "        vertical-align: top;\n",
       "    }\n",
       "\n",
       "    .dataframe thead th {\n",
       "        text-align: right;\n",
       "    }\n",
       "</style>\n",
       "<table border=\"1\" class=\"dataframe\">\n",
       "  <thead>\n",
       "    <tr style=\"text-align: right;\">\n",
       "      <th></th>\n",
       "      <th>rating_count</th>\n",
       "      <th>review_count</th>\n",
       "      <th>average_rating</th>\n",
       "      <th>number_of_pages</th>\n",
       "    </tr>\n",
       "  </thead>\n",
       "  <tbody>\n",
       "    <tr>\n",
       "      <th>count</th>\n",
       "      <td>5295.000000</td>\n",
       "      <td>5295.000000</td>\n",
       "      <td>5295.000000</td>\n",
       "      <td>5295.000000</td>\n",
       "    </tr>\n",
       "    <tr>\n",
       "      <th>mean</th>\n",
       "      <td>33548.135222</td>\n",
       "      <td>1427.478565</td>\n",
       "      <td>3.977645</td>\n",
       "      <td>349.858735</td>\n",
       "    </tr>\n",
       "    <tr>\n",
       "      <th>std</th>\n",
       "      <td>49812.475495</td>\n",
       "      <td>2096.696440</td>\n",
       "      <td>0.231157</td>\n",
       "      <td>161.704275</td>\n",
       "    </tr>\n",
       "    <tr>\n",
       "      <th>min</th>\n",
       "      <td>8.000000</td>\n",
       "      <td>0.000000</td>\n",
       "      <td>2.500000</td>\n",
       "      <td>0.000000</td>\n",
       "    </tr>\n",
       "    <tr>\n",
       "      <th>25%</th>\n",
       "      <td>5846.000000</td>\n",
       "      <td>264.000000</td>\n",
       "      <td>3.840000</td>\n",
       "      <td>240.000000</td>\n",
       "    </tr>\n",
       "    <tr>\n",
       "      <th>50%</th>\n",
       "      <td>14517.000000</td>\n",
       "      <td>662.000000</td>\n",
       "      <td>3.980000</td>\n",
       "      <td>336.000000</td>\n",
       "    </tr>\n",
       "    <tr>\n",
       "      <th>75%</th>\n",
       "      <td>37191.000000</td>\n",
       "      <td>1640.500000</td>\n",
       "      <td>4.140000</td>\n",
       "      <td>426.000000</td>\n",
       "    </tr>\n",
       "    <tr>\n",
       "      <th>max</th>\n",
       "      <td>320065.000000</td>\n",
       "      <td>20283.000000</td>\n",
       "      <td>4.760000</td>\n",
       "      <td>1006.000000</td>\n",
       "    </tr>\n",
       "  </tbody>\n",
       "</table>\n",
       "</div>"
      ],
      "text/plain": [
       "        rating_count  review_count  average_rating  number_of_pages\n",
       "count    5295.000000   5295.000000     5295.000000      5295.000000\n",
       "mean    33548.135222   1427.478565        3.977645       349.858735\n",
       "std     49812.475495   2096.696440        0.231157       161.704275\n",
       "min         8.000000      0.000000        2.500000         0.000000\n",
       "25%      5846.000000    264.000000        3.840000       240.000000\n",
       "50%     14517.000000    662.000000        3.980000       336.000000\n",
       "75%     37191.000000   1640.500000        4.140000       426.000000\n",
       "max    320065.000000  20283.000000        4.760000      1006.000000"
      ]
     },
     "execution_count": 7,
     "metadata": {},
     "output_type": "execute_result"
    }
   ],
   "source": [
    "df.describe()"
   ]
  },
  {
   "cell_type": "markdown",
   "id": "afbdaf24",
   "metadata": {},
   "source": [
    "The table shows us that the MAX rating count and the mean are too high, which affects the number of pages column. Getting more reliable results is the next step. \n",
    "\n",
    "A book with 20000 ratings counts, for example, could corrupt our reliability, so it needs to be removed."
   ]
  },
  {
   "cell_type": "markdown",
   "id": "c05a7831",
   "metadata": {},
   "source": [
    "Since rating count and number of books are integers, I needed to convert them to ints."
   ]
  },
  {
   "cell_type": "code",
   "execution_count": 8,
   "id": "ce93de69",
   "metadata": {},
   "outputs": [],
   "source": [
    "df['number_of_pages'] = df['number_of_pages'].astype(int)\n",
    "df['rating_count'] = df['rating_count'].astype(int)"
   ]
  },
  {
   "cell_type": "code",
   "execution_count": 9,
   "id": "d31dd33a",
   "metadata": {},
   "outputs": [
    {
     "name": "stdout",
     "output_type": "stream",
     "text": [
      "<class 'pandas.core.frame.DataFrame'>\n",
      "Int64Index: 5295 entries, 1 to 14608\n",
      "Data columns (total 8 columns):\n",
      " #   Column           Non-Null Count  Dtype  \n",
      "---  ------           --------------  -----  \n",
      " 0   title            5295 non-null   object \n",
      " 1   author           5295 non-null   object \n",
      " 2   rating_count     5295 non-null   int32  \n",
      " 3   review_count     5295 non-null   int64  \n",
      " 4   average_rating   5295 non-null   float64\n",
      " 5   number_of_pages  5295 non-null   int32  \n",
      " 6   publisher        5295 non-null   object \n",
      " 7   characters       5295 non-null   object \n",
      "dtypes: float64(1), int32(2), int64(1), object(4)\n",
      "memory usage: 330.9+ KB\n"
     ]
    }
   ],
   "source": [
    "df.info()"
   ]
  },
  {
   "cell_type": "code",
   "execution_count": 10,
   "id": "db406682",
   "metadata": {
    "scrolled": true
   },
   "outputs": [
    {
     "data": {
      "text/plain": [
       "677      3\n",
       "2298     3\n",
       "5921     3\n",
       "860      3\n",
       "3162     3\n",
       "        ..\n",
       "17694    1\n",
       "20053    1\n",
       "27903    1\n",
       "5678     1\n",
       "82013    1\n",
       "Name: rating_count, Length: 4993, dtype: int64"
      ]
     },
     "execution_count": 10,
     "metadata": {},
     "output_type": "execute_result"
    }
   ],
   "source": [
    "df['rating_count'].value_counts()"
   ]
  },
  {
   "cell_type": "markdown",
   "id": "b89070a1",
   "metadata": {},
   "source": [
    "As we can see, the rating count is not balanced.\n",
    "Before the cleaning, the most popluar rating is 677 ,2298 and 5921."
   ]
  },
  {
   "cell_type": "code",
   "execution_count": 11,
   "id": "7c7f40e0",
   "metadata": {},
   "outputs": [
    {
     "data": {
      "text/plain": [
       "33548.13522190746"
      ]
     },
     "execution_count": 11,
     "metadata": {},
     "output_type": "execute_result"
    }
   ],
   "source": [
    "df['rating_count'].mean()"
   ]
  },
  {
   "cell_type": "markdown",
   "id": "abaf9e0a",
   "metadata": {},
   "source": [
    "Before the cleaning, the mean is 33548.13522190746.\n"
   ]
  },
  {
   "cell_type": "code",
   "execution_count": 12,
   "id": "fb8ff1e4",
   "metadata": {},
   "outputs": [
    {
     "data": {
      "image/png": "[encoded data removed]",
      "text/plain": [
       "<Figure size 640x480 with 1 Axes>"
      ]
     },
     "metadata": {},
     "output_type": "display_data"
    }
   ],
   "source": [
    "plt.hist(df['rating_count'], bins=10)  # Adjust the number of bins as needed\n",
    "plt.xlabel('counts')\n",
    "plt.ylabel('Frequency')\n",
    "plt.title('Distribution of rating count')\n",
    "plt.show()"
   ]
  },
  {
   "cell_type": "code",
   "execution_count": 13,
   "id": "454baa5e",
   "metadata": {},
   "outputs": [],
   "source": [
    "df = df[df['rating_count'] < 60000]\n",
    "\n",
    "condition = (df['rating_count'].between(0, 10000))\n",
    "df.loc[condition, 'rating_count'] = df.loc[condition, 'rating_count'].head(1200)"
   ]
  },
  {
   "cell_type": "markdown",
   "id": "6945eb66",
   "metadata": {},
   "source": [
    "I cleared all the books with a rating count of more than 60000. I wanted to show the first 1200 different books that their rating count is between 0 to 10000. As we can see from the graph The frequency decreased as the counts decreased."
   ]
  },
  {
   "cell_type": "code",
   "execution_count": 14,
   "id": "b182096a",
   "metadata": {},
   "outputs": [],
   "source": [
    "df = df.dropna()"
   ]
  },
  {
   "cell_type": "markdown",
   "id": "f1c7f64c",
   "metadata": {},
   "source": [
    "The rating count was not balanced and had 4600 counts. Instead of deleting the row, it showed Null objects, so I cleared all the lines."
   ]
  },
  {
   "cell_type": "code",
   "execution_count": 15,
   "id": "4adb780b",
   "metadata": {
    "scrolled": true
   },
   "outputs": [
    {
     "name": "stdout",
     "output_type": "stream",
     "text": [
      "Nora Roberts                             47\n",
      "Agatha Christie                          44\n",
      "Meg Cabot                                24\n",
      "Mercedes Lackey                          21\n",
      "Anne McCaffrey                           20\n",
      "                                         ..\n",
      "Michael Ondaatje                          1\n",
      "Jason Goodwin                             1\n",
      "David Nasaw                               1\n",
      "Margaret MacMillan, Richard Holbrooke     1\n",
      "Deeanne Gist                              1\n",
      "Name: author, Length: 1933, dtype: int64\n"
     ]
    }
   ],
   "source": [
    "unique_authors = df['author'].value_counts()\n",
    "print(unique_authors)\n"
   ]
  },
  {
   "cell_type": "markdown",
   "id": "90112da3",
   "metadata": {},
   "source": [
    "We can see that we have 2797 authors at all. The most popular are: Nora Roberts, Agatha Christie and Terry Pratchett."
   ]
  },
  {
   "cell_type": "code",
   "execution_count": 16,
   "id": "ba9ed30f",
   "metadata": {
    "scrolled": true
   },
   "outputs": [
    {
     "data": {
      "text/html": [
       "<div>\n",
       "<style scoped>\n",
       "    .dataframe tbody tr th:only-of-type {\n",
       "        vertical-align: middle;\n",
       "    }\n",
       "\n",
       "    .dataframe tbody tr th {\n",
       "        vertical-align: top;\n",
       "    }\n",
       "\n",
       "    .dataframe thead th {\n",
       "        text-align: right;\n",
       "    }\n",
       "</style>\n",
       "<table border=\"1\" class=\"dataframe\">\n",
       "  <thead>\n",
       "    <tr style=\"text-align: right;\">\n",
       "      <th></th>\n",
       "      <th>rating_count</th>\n",
       "      <th>review_count</th>\n",
       "      <th>average_rating</th>\n",
       "      <th>number_of_pages</th>\n",
       "    </tr>\n",
       "  </thead>\n",
       "  <tbody>\n",
       "    <tr>\n",
       "      <th>count</th>\n",
       "      <td>3570.000000</td>\n",
       "      <td>3570.000000</td>\n",
       "      <td>3570.000000</td>\n",
       "      <td>3570.000000</td>\n",
       "    </tr>\n",
       "    <tr>\n",
       "      <th>mean</th>\n",
       "      <td>18548.678151</td>\n",
       "      <td>897.020448</td>\n",
       "      <td>3.975473</td>\n",
       "      <td>345.018487</td>\n",
       "    </tr>\n",
       "    <tr>\n",
       "      <th>std</th>\n",
       "      <td>14789.921513</td>\n",
       "      <td>871.340299</td>\n",
       "      <td>0.232914</td>\n",
       "      <td>157.809795</td>\n",
       "    </tr>\n",
       "    <tr>\n",
       "      <th>min</th>\n",
       "      <td>10.000000</td>\n",
       "      <td>4.000000</td>\n",
       "      <td>2.500000</td>\n",
       "      <td>0.000000</td>\n",
       "    </tr>\n",
       "    <tr>\n",
       "      <th>25%</th>\n",
       "      <td>6591.750000</td>\n",
       "      <td>284.000000</td>\n",
       "      <td>3.830000</td>\n",
       "      <td>240.000000</td>\n",
       "    </tr>\n",
       "    <tr>\n",
       "      <th>50%</th>\n",
       "      <td>14739.000000</td>\n",
       "      <td>640.500000</td>\n",
       "      <td>3.980000</td>\n",
       "      <td>334.000000</td>\n",
       "    </tr>\n",
       "    <tr>\n",
       "      <th>75%</th>\n",
       "      <td>26810.750000</td>\n",
       "      <td>1238.750000</td>\n",
       "      <td>4.140000</td>\n",
       "      <td>418.000000</td>\n",
       "    </tr>\n",
       "    <tr>\n",
       "      <th>max</th>\n",
       "      <td>59922.000000</td>\n",
       "      <td>7083.000000</td>\n",
       "      <td>4.760000</td>\n",
       "      <td>990.000000</td>\n",
       "    </tr>\n",
       "  </tbody>\n",
       "</table>\n",
       "</div>"
      ],
      "text/plain": [
       "       rating_count  review_count  average_rating  number_of_pages\n",
       "count   3570.000000   3570.000000     3570.000000      3570.000000\n",
       "mean   18548.678151    897.020448        3.975473       345.018487\n",
       "std    14789.921513    871.340299        0.232914       157.809795\n",
       "min       10.000000      4.000000        2.500000         0.000000\n",
       "25%     6591.750000    284.000000        3.830000       240.000000\n",
       "50%    14739.000000    640.500000        3.980000       334.000000\n",
       "75%    26810.750000   1238.750000        4.140000       418.000000\n",
       "max    59922.000000   7083.000000        4.760000       990.000000"
      ]
     },
     "execution_count": 16,
     "metadata": {},
     "output_type": "execute_result"
    }
   ],
   "source": [
    "df.describe()"
   ]
  },
  {
   "cell_type": "markdown",
   "id": "051755ac",
   "metadata": {},
   "source": [
    "The statictics looks good, but we need to take care of the Maximal row. \n",
    "In addition, we can see that the average rating is not balanced, because the average is from 1 to 5, and there are no books with rating 1 or 2 (its start's from 2.5).\n",
    "secondly, we need to clean all the books with 0 pages.\n"
   ]
  },
  {
   "cell_type": "code",
   "execution_count": 17,
   "id": "64ff35bf",
   "metadata": {},
   "outputs": [],
   "source": [
    "df = df[df['number_of_pages'] != 0]\n",
    "df = df[df['number_of_pages'] <= 600]\n",
    "df = df[df['number_of_pages']>=50]"
   ]
  },
  {
   "cell_type": "markdown",
   "id": "4bfaaeff",
   "metadata": {},
   "source": [
    "Let's see what conclusions we can make of the Number Of Pages graph."
   ]
  },
  {
   "cell_type": "code",
   "execution_count": 18,
   "id": "590bdbe8",
   "metadata": {},
   "outputs": [
    {
     "data": {
      "image/png": "[encoded data removed]",
      "text/plain": [
       "<Figure size 640x480 with 1 Axes>"
      ]
     },
     "metadata": {},
     "output_type": "display_data"
    }
   ],
   "source": [
    "plt.hist(df['number_of_pages'], bins=15) \n",
    "plt.xlabel('Number of Pages')\n",
    "plt.ylabel('Frequency')\n",
    "plt.title('Distribution of Number of Pages')\n",
    "plt.show()"
   ]
  },
  {
   "cell_type": "markdown",
   "id": "1176af7f",
   "metadata": {},
   "source": [
    "The conclusion from the graph is that most books has between 300 to 400 pages."
   ]
  },
  {
   "cell_type": "markdown",
   "id": "cd41e7ce",
   "metadata": {},
   "source": [
    "Now, Let's see what we can conclude from the average rating graph."
   ]
  },
  {
   "cell_type": "code",
   "execution_count": 19,
   "id": "5ef945c1",
   "metadata": {},
   "outputs": [
    {
     "data": {
      "image/png": "[encoded data removed]",
      "text/plain": [
       "<Figure size 640x480 with 1 Axes>"
      ]
     },
     "metadata": {},
     "output_type": "display_data"
    }
   ],
   "source": [
    "plt.hist(df['average_rating'], bins=15)  \n",
    "plt.xlabel('counts')\n",
    "plt.ylabel('Frequency')\n",
    "plt.title('Distribution of the average rating')\n",
    "plt.show()\n",
    "\n"
   ]
  },
  {
   "cell_type": "markdown",
   "id": "7b97812f",
   "metadata": {},
   "source": [
    "Now I want to balance the average rating between 3.8 to 4 counts:"
   ]
  },
  {
   "cell_type": "code",
   "execution_count": 20,
   "id": "a2f1ed4c",
   "metadata": {},
   "outputs": [],
   "source": [
    "condition = (df['average_rating'].between(3.8,4.0))\n",
    "df.loc[condition, 'average_rating'] = df.loc[condition, 'average_rating'].head(1000)"
   ]
  },
  {
   "cell_type": "markdown",
   "id": "7c1138da",
   "metadata": {},
   "source": [
    "I tried to gather a sample of 1000 books with average rating between 3.8 to 4.0 so I can balance the dataframe."
   ]
  },
  {
   "cell_type": "markdown",
   "id": "0a0ff009",
   "metadata": {},
   "source": [
    "Using the following command I wanted to round the number with one digit after the decimal point."
   ]
  },
  {
   "cell_type": "code",
   "execution_count": 21,
   "id": "8049ec1e",
   "metadata": {},
   "outputs": [],
   "source": [
    "df['average_rating'] = df['average_rating'].round(1)"
   ]
  },
  {
   "cell_type": "code",
   "execution_count": 22,
   "id": "2184b67d",
   "metadata": {
    "scrolled": true
   },
   "outputs": [],
   "source": [
    "df = df.dropna()"
   ]
  },
  {
   "cell_type": "markdown",
   "id": "40121fea",
   "metadata": {},
   "source": [
    "With df.dropna() function I want to delete all the rows with Nan values."
   ]
  },
  {
   "cell_type": "markdown",
   "id": "5946a0b0",
   "metadata": {},
   "source": [
    "Let's see the data information after all changes."
   ]
  },
  {
   "cell_type": "code",
   "execution_count": 23,
   "id": "557f77f4",
   "metadata": {},
   "outputs": [
    {
     "data": {
      "text/html": [
       "<div>\n",
       "<style scoped>\n",
       "    .dataframe tbody tr th:only-of-type {\n",
       "        vertical-align: middle;\n",
       "    }\n",
       "\n",
       "    .dataframe tbody tr th {\n",
       "        vertical-align: top;\n",
       "    }\n",
       "\n",
       "    .dataframe thead th {\n",
       "        text-align: right;\n",
       "    }\n",
       "</style>\n",
       "<table border=\"1\" class=\"dataframe\">\n",
       "  <thead>\n",
       "    <tr style=\"text-align: right;\">\n",
       "      <th></th>\n",
       "      <th>rating_count</th>\n",
       "      <th>review_count</th>\n",
       "      <th>average_rating</th>\n",
       "      <th>number_of_pages</th>\n",
       "    </tr>\n",
       "  </thead>\n",
       "  <tbody>\n",
       "    <tr>\n",
       "      <th>count</th>\n",
       "      <td>3142.000000</td>\n",
       "      <td>3142.000000</td>\n",
       "      <td>3142.00000</td>\n",
       "      <td>3142.000000</td>\n",
       "    </tr>\n",
       "    <tr>\n",
       "      <th>mean</th>\n",
       "      <td>18270.077339</td>\n",
       "      <td>891.689370</td>\n",
       "      <td>3.97021</td>\n",
       "      <td>321.576703</td>\n",
       "    </tr>\n",
       "    <tr>\n",
       "      <th>std</th>\n",
       "      <td>14760.927756</td>\n",
       "      <td>886.470745</td>\n",
       "      <td>0.23861</td>\n",
       "      <td>115.919011</td>\n",
       "    </tr>\n",
       "    <tr>\n",
       "      <th>min</th>\n",
       "      <td>10.000000</td>\n",
       "      <td>4.000000</td>\n",
       "      <td>2.50000</td>\n",
       "      <td>55.000000</td>\n",
       "    </tr>\n",
       "    <tr>\n",
       "      <th>25%</th>\n",
       "      <td>6376.750000</td>\n",
       "      <td>275.000000</td>\n",
       "      <td>3.80000</td>\n",
       "      <td>234.000000</td>\n",
       "    </tr>\n",
       "    <tr>\n",
       "      <th>50%</th>\n",
       "      <td>14421.500000</td>\n",
       "      <td>620.000000</td>\n",
       "      <td>4.00000</td>\n",
       "      <td>320.000000</td>\n",
       "    </tr>\n",
       "    <tr>\n",
       "      <th>75%</th>\n",
       "      <td>26431.500000</td>\n",
       "      <td>1216.000000</td>\n",
       "      <td>4.10000</td>\n",
       "      <td>400.000000</td>\n",
       "    </tr>\n",
       "    <tr>\n",
       "      <th>max</th>\n",
       "      <td>59732.000000</td>\n",
       "      <td>7083.000000</td>\n",
       "      <td>4.80000</td>\n",
       "      <td>600.000000</td>\n",
       "    </tr>\n",
       "  </tbody>\n",
       "</table>\n",
       "</div>"
      ],
      "text/plain": [
       "       rating_count  review_count  average_rating  number_of_pages\n",
       "count   3142.000000   3142.000000      3142.00000      3142.000000\n",
       "mean   18270.077339    891.689370         3.97021       321.576703\n",
       "std    14760.927756    886.470745         0.23861       115.919011\n",
       "min       10.000000      4.000000         2.50000        55.000000\n",
       "25%     6376.750000    275.000000         3.80000       234.000000\n",
       "50%    14421.500000    620.000000         4.00000       320.000000\n",
       "75%    26431.500000   1216.000000         4.10000       400.000000\n",
       "max    59732.000000   7083.000000         4.80000       600.000000"
      ]
     },
     "execution_count": 23,
     "metadata": {},
     "output_type": "execute_result"
    }
   ],
   "source": [
    "df.describe()"
   ]
  },
  {
   "cell_type": "code",
   "execution_count": 24,
   "id": "8b18a99d",
   "metadata": {
    "scrolled": true
   },
   "outputs": [
    {
     "data": {
      "text/plain": [
       "4.0    558\n",
       "4.1    477\n",
       "3.8    452\n",
       "4.2    441\n",
       "3.9    421\n",
       "3.7    235\n",
       "4.3    177\n",
       "3.6    132\n",
       "4.4     87\n",
       "3.5     57\n",
       "3.4     42\n",
       "3.2     13\n",
       "4.5     12\n",
       "4.7     11\n",
       "3.3     11\n",
       "4.6      6\n",
       "3.1      4\n",
       "4.8      2\n",
       "3.0      1\n",
       "2.6      1\n",
       "2.5      1\n",
       "2.8      1\n",
       "Name: average_rating, dtype: int64"
      ]
     },
     "execution_count": 24,
     "metadata": {},
     "output_type": "execute_result"
    }
   ],
   "source": [
    "df['average_rating'].value_counts()"
   ]
  },
  {
   "cell_type": "markdown",
   "id": "40cd084a",
   "metadata": {},
   "source": [
    "After cleaning and rounding the data, the most popular average ratings are 4.0 , 4,1 and 3.8."
   ]
  },
  {
   "cell_type": "code",
   "execution_count": 25,
   "id": "36bb5c6f",
   "metadata": {
    "scrolled": false
   },
   "outputs": [
    {
     "data": {
      "image/png": "[encoded data removed]",
      "text/plain": [
       "<Figure size 640x480 with 1 Axes>"
      ]
     },
     "metadata": {},
     "output_type": "display_data"
    }
   ],
   "source": [
    "plt.hist(df['review_count'], bins=15)  \n",
    "plt.xlabel('counts')\n",
    "plt.ylabel('Frequency')\n",
    "plt.title('Distribution of the review count')\n",
    "plt.show()\n"
   ]
  },
  {
   "cell_type": "markdown",
   "id": "f39d92cf",
   "metadata": {},
   "source": [
    "Correlation is a statistical measure that quantifies the relationship or association between two variables. It indicates the strength and direction of the linear relationship between the variables, ranging from -1 (perfect negative correlation) to 1 (perfect positive correlation), with 0 indicating no correlation."
   ]
  },
  {
   "cell_type": "code",
   "execution_count": 26,
   "id": "4de85f79",
   "metadata": {
    "scrolled": false
   },
   "outputs": [
    {
     "data": {
      "text/html": [
       "<div>\n",
       "<style scoped>\n",
       "    .dataframe tbody tr th:only-of-type {\n",
       "        vertical-align: middle;\n",
       "    }\n",
       "\n",
       "    .dataframe tbody tr th {\n",
       "        vertical-align: top;\n",
       "    }\n",
       "\n",
       "    .dataframe thead th {\n",
       "        text-align: right;\n",
       "    }\n",
       "</style>\n",
       "<table border=\"1\" class=\"dataframe\">\n",
       "  <thead>\n",
       "    <tr style=\"text-align: right;\">\n",
       "      <th></th>\n",
       "      <th>rating_count</th>\n",
       "      <th>review_count</th>\n",
       "      <th>average_rating</th>\n",
       "      <th>number_of_pages</th>\n",
       "    </tr>\n",
       "  </thead>\n",
       "  <tbody>\n",
       "    <tr>\n",
       "      <th>rating_count</th>\n",
       "      <td>1.000000</td>\n",
       "      <td>0.737994</td>\n",
       "      <td>0.129702</td>\n",
       "      <td>0.054176</td>\n",
       "    </tr>\n",
       "    <tr>\n",
       "      <th>review_count</th>\n",
       "      <td>0.737994</td>\n",
       "      <td>1.000000</td>\n",
       "      <td>-0.064088</td>\n",
       "      <td>0.000369</td>\n",
       "    </tr>\n",
       "    <tr>\n",
       "      <th>average_rating</th>\n",
       "      <td>0.129702</td>\n",
       "      <td>-0.064088</td>\n",
       "      <td>1.000000</td>\n",
       "      <td>0.102226</td>\n",
       "    </tr>\n",
       "    <tr>\n",
       "      <th>number_of_pages</th>\n",
       "      <td>0.054176</td>\n",
       "      <td>0.000369</td>\n",
       "      <td>0.102226</td>\n",
       "      <td>1.000000</td>\n",
       "    </tr>\n",
       "  </tbody>\n",
       "</table>\n",
       "</div>"
      ],
      "text/plain": [
       "                 rating_count  review_count  average_rating  number_of_pages\n",
       "rating_count         1.000000      0.737994        0.129702         0.054176\n",
       "review_count         0.737994      1.000000       -0.064088         0.000369\n",
       "average_rating       0.129702     -0.064088        1.000000         0.102226\n",
       "number_of_pages      0.054176      0.000369        0.102226         1.000000"
      ]
     },
     "execution_count": 26,
     "metadata": {},
     "output_type": "execute_result"
    }
   ],
   "source": [
    "(df.corr())"
   ]
  },
  {
   "cell_type": "markdown",
   "id": "e5baeb55",
   "metadata": {},
   "source": [
    "Conclusions From the DataFrame:\n",
    "\n",
    "- First of all, there is hard correlaction between Review Count and Rating count (The positive correlation). As more as people rate books - the number of the reviews is increasing, which is rational.\n",
    "\n",
    "\n",
    "- We can see that there is negative correlation betweeen 2 variables - Average Rating and Review Count. This means that as one variable increases, the other variable tends to decrease.\n",
    "\n",
    "\n",
    "- The correlation between Review Count and Number of pages is close to 0.  This means that there is no significant connection between the 2 variables.\n",
    "\n",
    "\n",
    "\n",
    "\n",
    "\n"
   ]
  },
  {
   "cell_type": "code",
   "execution_count": 27,
   "id": "a2941781",
   "metadata": {},
   "outputs": [
    {
     "data": {
      "image/png": "[encoded data removed]",
      "text/plain": [
       "<Figure size 640x480 with 1 Axes>"
      ]
     },
     "metadata": {},
     "output_type": "display_data"
    }
   ],
   "source": [
    "plt.scatter(df['number_of_pages'], df['average_rating'])\n",
    "plt.xlabel('number_of_pages')\n",
    "plt.ylabel('average_rating')\n",
    "plt.title('Scatter Plot: number_of_pages vs. average_rating')\n",
    "plt.show()"
   ]
  },
  {
   "cell_type": "markdown",
   "id": "f304e410",
   "metadata": {},
   "source": [
    "The Scatter Plot describes the connection between Average Rating and Number Of Pages."
   ]
  },
  {
   "cell_type": "code",
   "execution_count": 28,
   "id": "b24e982d",
   "metadata": {},
   "outputs": [
    {
     "data": {
      "image/png": "[encoded data removed]",
      "text/plain": [
       "<Figure size 640x480 with 1 Axes>"
      ]
     },
     "metadata": {},
     "output_type": "display_data"
    }
   ],
   "source": [
    "page_counts = df['number_of_pages'].value_counts().head(5)\n",
    "percentages = page_counts / len(df) * 100\n",
    "\n",
    "plt.pie(percentages, labels=page_counts.index, autopct='%1.1f%%')\n",
    "plt.title('Number of Pages Distribution')\n",
    "plt.show()"
   ]
  },
  {
   "cell_type": "markdown",
   "id": "1965fe30",
   "metadata": {},
   "source": [
    "The pie chart above describes the top 5 distribution of the data, regarding number of pages in the data set."
   ]
  },
  {
   "cell_type": "code",
   "execution_count": 29,
   "id": "f68b7464",
   "metadata": {
    "scrolled": false
   },
   "outputs": [
    {
     "data": {
      "image/png": "[encoded data removed]",
      "text/plain": [
       "<Figure size 640x480 with 1 Axes>"
      ]
     },
     "metadata": {},
     "output_type": "display_data"
    }
   ],
   "source": [
    "counts = df['average_rating'].value_counts().head(10)\n",
    "percentages = counts / len(df) * 100\n",
    "\n",
    "plt.pie(percentages, labels=counts.index, autopct='%1.1f%%')\n",
    "plt.title('Average Rating Distribution')\n",
    "plt.show()"
   ]
  },
  {
   "cell_type": "markdown",
   "id": "af5331e1",
   "metadata": {},
   "source": [
    "    Conclusion from the Pie Chart:\n",
    "\n",
    "* The most popular rating of books is 4.1 with 15.7%, while the least popular rating is 3.5 with 1.9%.\n",
    "\n",
    "* Almost 40% percent of the ratings is around 4."
   ]
  },
  {
   "cell_type": "code",
   "execution_count": 30,
   "id": "b8c24335",
   "metadata": {},
   "outputs": [
    {
     "data": {
      "text/plain": [
       "3142"
      ]
     },
     "execution_count": 30,
     "metadata": {},
     "output_type": "execute_result"
    }
   ],
   "source": [
    "df.shape[0]"
   ]
  },
  {
   "cell_type": "markdown",
   "id": "aa468727",
   "metadata": {},
   "source": [
    "The number of rows in the DataFrame after cleaning is 3142."
   ]
  },
  {
   "cell_type": "markdown",
   "id": "dc654cfd",
   "metadata": {},
   "source": [
    "Extract the data Frame to a CSV file, to use later in the ML: "
   ]
  },
  {
   "cell_type": "code",
   "execution_count": 31,
   "id": "ff648343",
   "metadata": {},
   "outputs": [],
   "source": [
    "df.to_csv('GoodReadsfile3.csv')"
   ]
  },
  {
   "cell_type": "code",
   "execution_count": null,
   "id": "ea2a98ce",
   "metadata": {},
   "outputs": [],
   "source": []
  }
 ],
 "metadata": {
  "kernelspec": {
   "display_name": "Python 3 (ipykernel)",
   "language": "python",
   "name": "python3"
  },
  "language_info": {
   "codemirror_mode": {
    "name": "ipython",
    "version": 3
   },
   "file_extension": ".py",
   "mimetype": "text/x-python",
   "name": "python",
   "nbconvert_exporter": "python",
   "pygments_lexer": "ipython3",
   "version": "3.9.13"
  }
 },
 "nbformat": 4,
 "nbformat_minor": 5
}
